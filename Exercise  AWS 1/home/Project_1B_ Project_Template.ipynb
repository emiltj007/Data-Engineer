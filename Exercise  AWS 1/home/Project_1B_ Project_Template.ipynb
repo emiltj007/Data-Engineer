{
 "cells": [
  {
   "cell_type": "markdown",
   "metadata": {},
   "source": [
    "# Part I. ETL Pipeline for Pre-Processing the Files"
   ]
  },
  {
   "cell_type": "markdown",
   "metadata": {},
   "source": [
    "## PLEASE RUN THE FOLLOWING CODE FOR PRE-PROCESSING THE FILES"
   ]
  },
  {
   "cell_type": "markdown",
   "metadata": {},
   "source": [
    "#### Import Python packages "
   ]
  },
  {
   "cell_type": "code",
   "execution_count": 35,
   "metadata": {},
   "outputs": [],
   "source": [
    "# Import Python packages \n",
    "import pandas as pd\n",
    "import cassandra\n",
    "import re\n",
    "import os\n",
    "import glob\n",
    "import numpy as np\n",
    "import json\n",
    "import csv"
   ]
  },
  {
   "cell_type": "markdown",
   "metadata": {},
   "source": [
    "#### Creating list of filepaths to process original event csv data files"
   ]
  },
  {
   "cell_type": "code",
   "execution_count": 36,
   "metadata": {},
   "outputs": [
    {
     "name": "stdout",
     "output_type": "stream",
     "text": [
      "/workspace/home\n"
     ]
    }
   ],
   "source": [
    "# checking your current working directory\n",
    "print(os.getcwd())\n",
    "\n",
    "# Get your current folder and subfolder event data\n",
    "filepath = os.getcwd() + '/event_data'\n",
    "\n",
    "# Create a for loop to create a list of files and collect each filepath\n",
    "for root, dirs, files in os.walk(filepath):\n",
    "    \n",
    "# join the file path and roots with the subdirectories using glob\n",
    "    file_path_list = glob.glob(os.path.join(root,'*'))\n",
    "    #print(file_path_list)"
   ]
  },
  {
   "cell_type": "markdown",
   "metadata": {},
   "source": [
    "#### Processing the files to create the data file csv that will be used for Apache Casssandra tables"
   ]
  },
  {
   "cell_type": "code",
   "execution_count": 37,
   "metadata": {},
   "outputs": [],
   "source": [
    "# initiating an empty list of rows that will be generated from each file\n",
    "full_data_rows_list = [] \n",
    "    \n",
    "# for every filepath in the file path list \n",
    "for f in file_path_list:\n",
    "\n",
    "# reading csv file \n",
    "    with open(f, 'r', encoding = 'utf8', newline='') as csvfile: \n",
    "        # creating a csv reader object \n",
    "        csvreader = csv.reader(csvfile) \n",
    "        next(csvreader)\n",
    "        \n",
    " # extracting each data row one by one and append it        \n",
    "        for line in csvreader:\n",
    "            #print(line)\n",
    "            full_data_rows_list.append(line) \n",
    "            \n",
    "# uncomment the code below if you would like to get total number of rows \n",
    "#print(len(full_data_rows_list))\n",
    "# uncomment the code below if you would like to check to see what the list of event data rows will look like\n",
    "#print(full_data_rows_list)\n",
    "\n",
    "# creating a smaller event data csv file called event_datafile_full csv that will be used to insert data into the \\\n",
    "# Apache Cassandra tables\n",
    "csv.register_dialect('myDialect', quoting=csv.QUOTE_ALL, skipinitialspace=True)\n",
    "\n",
    "with open('event_datafile_new.csv', 'w', encoding = 'utf8', newline='') as f:\n",
    "    writer = csv.writer(f, dialect='myDialect')\n",
    "    writer.writerow(['artist','firstName','gender','itemInSession','lastName','length',\\\n",
    "                'level','location','sessionId','song','userId'])\n",
    "    for row in full_data_rows_list:\n",
    "        if (row[0] == ''):\n",
    "            continue\n",
    "        writer.writerow((row[0], row[2], row[3], row[4], row[5], row[6], row[7], row[8], row[12], row[13], row[16]))\n"
   ]
  },
  {
   "cell_type": "code",
   "execution_count": 38,
   "metadata": {},
   "outputs": [
    {
     "name": "stdout",
     "output_type": "stream",
     "text": [
      "6821\n"
     ]
    }
   ],
   "source": [
    "# check the number of rows in your csv file\n",
    "with open('event_datafile_new.csv', 'r', encoding = 'utf8') as f:\n",
    "    print(sum(1 for line in f))"
   ]
  },
  {
   "cell_type": "markdown",
   "metadata": {},
   "source": [
    "# Part II. Complete the Apache Cassandra coding portion of your project. \n",
    "\n",
    "## Now you are ready to work with the CSV file titled <font color=red>event_datafile_new.csv</font>, located within the Workspace directory.  The event_datafile_new.csv contains the following columns: \n",
    "- artist \n",
    "- firstName of user\n",
    "- gender of user\n",
    "- item number in session\n",
    "- last name of user\n",
    "- length of the song\n",
    "- level (paid or free song)\n",
    "- location of the user\n",
    "- sessionId\n",
    "- song title\n",
    "- userId\n",
    "\n",
    "The image below is a screenshot of what the denormalized data should appear like in the <font color=red>**event_datafile_new.csv**</font> after the code above is run:<br>\n",
    "\n",
    "<img src=\"images/image_event_datafile_new.jpg\">"
   ]
  },
  {
   "cell_type": "markdown",
   "metadata": {},
   "source": [
    "## Begin writing your Apache Cassandra code in the cells below"
   ]
  },
  {
   "cell_type": "markdown",
   "metadata": {},
   "source": [
    "#### Creating a Cluster"
   ]
  },
  {
   "cell_type": "code",
   "execution_count": 39,
   "metadata": {},
   "outputs": [],
   "source": [
    "# This should make a connection to a Cassandra instance your local machine \n",
    "# (127.0.0.1)\n",
    "\n",
    "from cassandra.cluster import Cluster\n",
    "cluster = Cluster()\n",
    "\n",
    "# To establish connection and begin executing queries, need a session\n",
    "session = cluster.connect()"
   ]
  },
  {
   "cell_type": "markdown",
   "metadata": {},
   "source": [
    "#### Create Keyspace"
   ]
  },
  {
   "cell_type": "code",
   "execution_count": 40,
   "metadata": {},
   "outputs": [],
   "source": [
    "#Create a Keyspace project_dm\n",
    "try:\n",
    "    session.execute(\"Create KEYSPACE if not exists project_dm\\\n",
    "                    with replication = \\\n",
    "                    {'class' : 'SimpleStrategy', 'replication_factor' : 1}\")\n",
    "               \n",
    "except Exception as e:\n",
    "    print(e)"
   ]
  },
  {
   "cell_type": "markdown",
   "metadata": {},
   "source": [
    "#### Set Keyspace"
   ]
  },
  {
   "cell_type": "code",
   "execution_count": 41,
   "metadata": {},
   "outputs": [],
   "source": [
    "# Set KEYSPACE to the keyspace project_dm\n",
    "try:\n",
    "    session.set_keyspace(\"project_dm\")\n",
    "except exception as e:\n",
    "    print(e)\n"
   ]
  },
  {
   "cell_type": "markdown",
   "metadata": {},
   "source": [
    "### Now we need to create tables to run the following queries. Remember, with Apache Cassandra you model the database tables on the queries you want to run."
   ]
  },
  {
   "cell_type": "markdown",
   "metadata": {},
   "source": [
    "## Create queries to ask the following three questions of the data\n",
    "\n",
    "### 1. Give me the artist, song title and song's length in the music app history that was heard during  sessionId = 338, and itemInSession  = 4\n",
    "\n",
    "\n",
    "### 2. Give me only the following: name of artist, song (sorted by itemInSession) and user (first and last name) for userid = 10, sessionid = 182\n",
    "    \n",
    "\n",
    "### 3. Give me every user name (first and last) in my music app history who listened to the song 'All Hands Against His Own'\n",
    "\n",
    "\n"
   ]
  },
  {
   "cell_type": "markdown",
   "metadata": {},
   "source": [
    "##### 1. Give me the artist, song title and song's length in the music app history that was heard during  sessionId = 338, and itemInSession  = 4\n",
    "\n",
    "Creating a table music_session_history which will have following columns with the data types \n",
    "1. sessionid with datatype integer\n",
    "2. itemInSession with datatype integer\n",
    "3. artist with datatype string\n",
    "4. song_title with datatype string\n",
    "5. song_len with datatype decimal\n",
    "\n",
    "Table is partitioned on sessionid and itemInsession which would serve as the primary key\n"
   ]
  },
  {
   "cell_type": "code",
   "execution_count": 42,
   "metadata": {},
   "outputs": [],
   "source": [
    "# Query 1:  Give me the artist, song title and song's length in the music app history that was heard during \\\n",
    "# sessionId = 338, and itemInSession = 4\n",
    "\n",
    "# Create table music_session_history with partition on sessionid and itemInSession which can uniquely \\\n",
    "# identify each row\n",
    "try:\n",
    "    session.execute(\"Create table if not exists music_session_history (sessionid int, itemInSession int,artist text,song_title text, \\\n",
    "                    song_len decimal,\\\n",
    "                    PRIMARY KEY(sessionid,itemInSession))\")\n",
    "except Exception as e:\n",
    "    print(e)\n",
    "\n",
    "                    "
   ]
  },
  {
   "cell_type": "code",
   "execution_count": 43,
   "metadata": {
    "scrolled": false
   },
   "outputs": [],
   "source": [
    "# Set up the CSV file event_datafile_new.csv  \n",
    "file = 'event_datafile_new.csv'\n",
    "\n",
    "# Reading values from csv file and inserting into the table\n",
    "with open(file, encoding = 'utf8') as f:\n",
    "    csvreader = csv.reader(f)\n",
    "    next(csvreader) # skip header\n",
    "    for line in csvreader:\n",
    "# Assign the INSERT statements into the `query` variable\n",
    "        query = \"Insert into music_session_history(sessionid, itemInSession ,artist,song_title,song_len)\"\n",
    "        query = query + \"values(%s,%s,%s,%s,%s)\"\n",
    "        # Assign which column element should be assigned for each column in the INSERT statement.\n",
    "        # For e.g., to INSERT artist_name and user first_name, you would change the code below to `line[0], line[1]`\n",
    "        # Type casting performed to convert string to integer and decimals values for required columns \n",
    "        session.execute(query, (int(line[8]), int(line[3]), line[0], line[9], float(line[5])))"
   ]
  },
  {
   "cell_type": "markdown",
   "metadata": {},
   "source": [
    "#### Do a SELECT to verify that the data have been inserted into each table"
   ]
  },
  {
   "cell_type": "code",
   "execution_count": 44,
   "metadata": {
    "scrolled": true
   },
   "outputs": [
    {
     "name": "stdout",
     "output_type": "stream",
     "text": [
      "      artist                       song_title  song_len\n",
      "0  Faithless  Music Matters (Mark Knight Dub)  495.3073\n"
     ]
    }
   ],
   "source": [
    "# SELECT statement to verify the data was entered into the table music_session_history\n",
    "\n",
    "# Select only required columns instead of '*' so performance is better. Select query is executed and assigned to result_set\n",
    "try:\n",
    "    query = \"Select artist,song_title,song_len from music_session_history where sessionid=338 and itemInSession=4;\"\n",
    "    result_set = session.execute(query)\n",
    "    \n",
    "except Exception as e:\n",
    "    print(e)\n",
    "\n",
    "# Printing the required columns from music_session_history\n",
    "# result set is put into a dataframe and assigned columns and displayed\n",
    "try:\n",
    "    df = pd.DataFrame(list(result_set))\n",
    "    df.columns = ['artist','song_title','song_len']\n",
    "    print(df)\n",
    "    \n",
    "except Exception as e:\n",
    "    print(e)"
   ]
  },
  {
   "cell_type": "markdown",
   "metadata": {},
   "source": [
    "##### 2. Give me only the following: name of artist, song (sorted by itemInSession) and user (first and last name) for userid = 10, sessionid = 182\n",
    "\n",
    "Creating a table music_user_history which will have following columns with the data types \n",
    "1. userid with datatype integer\n",
    "1. sessionid with datatype integer\n",
    "2. itemInSession with datatype integer\n",
    "3. artist with datatype string\n",
    "4. song_title with datatype string\n",
    "5. user with datatype string\n",
    "\n",
    "Table is partitioned on userid and sessionid.ItemInSession has been added as clustering key to sort the songs based on it. \n",
    "userid, sessionid, ItemInSession serve as the primary key.\n",
    "\n"
   ]
  },
  {
   "cell_type": "code",
   "execution_count": 45,
   "metadata": {},
   "outputs": [],
   "source": [
    "# Query 2: Give me only the following: name of artist, song (sorted by itemInSession) and user (first and last name)\\\n",
    "# for userid = 10, sessionid = 182\n",
    "\n",
    "# Create table music_user_history with partition on userid and sessionid and clustering key as itemInSession to sort songs \\\n",
    "# which together can uniquely identify each row\n",
    "try:\n",
    "    session.execute(\"Create table if not exists music_user_history (userid int, sessionid int,itemInSession int,artist text,song_title text,\\\n",
    "                    user text,PRIMARY KEY((userid,sessionid),itemInSession))\")\n",
    "except Exception as e:\n",
    "    print(e)\n",
    "                    "
   ]
  },
  {
   "cell_type": "code",
   "execution_count": 46,
   "metadata": {},
   "outputs": [],
   "source": [
    "# Reading values from the csv and inserting into the cassandra table\n",
    "file = 'event_datafile_new.csv'\n",
    "\n",
    "with open(file, encoding = 'utf8') as f:\n",
    "    csvreader = csv.reader(f)\n",
    "    next(csvreader) # skip header\n",
    "    for line in csvreader:\n",
    "# Assign the INSERT statements into the `query` variable\n",
    "        query = \"Insert into music_user_history(userid , sessionid ,itemInSession ,artist ,song_title ,user)\"\n",
    "        query = query + \"values(%s,%s,%s,%s,%s,%s)\"\n",
    "        # Assign which column element should be assigned for each column in the INSERT statement.\n",
    "        # For e.g., to INSERT artist_name and user first_name, you would change the code below to `line[0], line[1]`\n",
    "        # Type casting performed on columns to be converted to integer and  user column is concatenation of first and last name\n",
    "        session.execute(query, (int(line[10]), int(line[8]), int(line[3]), line[0], line[9],line[1]+' '+line[4]))"
   ]
  },
  {
   "cell_type": "code",
   "execution_count": 47,
   "metadata": {},
   "outputs": [
    {
     "name": "stdout",
     "output_type": "stream",
     "text": [
      "              artist  itemInSession                                         song_title         user\n",
      "0   Down To The Bone              0                                 Keep On Keepin' On  Sylvie Cruz\n",
      "1       Three Drives              1                                        Greece 2000  Sylvie Cruz\n",
      "2  Sebastien Tellier              2                                          Kilometer  Sylvie Cruz\n",
      "3      Lonnie Gordon              3  Catch You Baby (Steve Pitron & Max Sanna Radio...  Sylvie Cruz\n"
     ]
    }
   ],
   "source": [
    "# SELECT statement to verify the data was entered into the table music_user_history\n",
    "\n",
    "# Select only required columns instead of '*' so performance is better.Select query is executed and assigned to result_set\n",
    "try:\n",
    "    query = \"Select artist,itemInSession,song_title,user from music_user_history where userid=10 and sessionid=182;\"\n",
    "    result_set = session.execute(query)\n",
    "    \n",
    "except Exception as e:\n",
    "    print(e)\n",
    "\n",
    "# Printing the required columns from music_user_history\n",
    "# result set is put into a dataframe and assigned columns and displayed\n",
    "try:\n",
    "    df = pd.DataFrame(list(result_set))\n",
    "    df.columns = ['artist','itemInSession','song_title','user']\n",
    "    pd.set_option('display.expand_frame_repr',False) # Bring all columns in line in the result\n",
    "    print(df)\n",
    "except Exception as e:\n",
    "    print(e)"
   ]
  },
  {
   "cell_type": "markdown",
   "metadata": {},
   "source": [
    "##### 3. Give me every user name (first and last) in my music app history who listened to the song 'All Hands Against His Own'\n",
    "\n",
    "Creating a table music_user_song which will have following columns with the data types \n",
    "1. username with datatype string\n",
    "2. song_title with datatype string\n",
    "3. userid with datatype integer\n",
    "\n",
    "Table is partitioned on song_title and userid which would serve as the primary key.\n",
    "\n"
   ]
  },
  {
   "cell_type": "code",
   "execution_count": 48,
   "metadata": {},
   "outputs": [],
   "source": [
    "# Query 3: Give me every user name (first and last) in my music app history who listened to the song 'All Hands Against His Own'\n",
    "# Create table music_user_song with partition on song title and userid which can uniquely identify \\\n",
    "# each row\n",
    "try:\n",
    "    session.execute(\"Create table if not exists music_user_song (username text,song_title text,userid int,\\\n",
    "                    PRIMARY KEY(song_title,userid))\")\n",
    "except Exception as e:\n",
    "    print(e)\n",
    "\n",
    "                    "
   ]
  },
  {
   "cell_type": "code",
   "execution_count": 49,
   "metadata": {},
   "outputs": [],
   "source": [
    "# Reading values from the csv and inserting into the cassandra table\n",
    "file = 'event_datafile_new.csv'\n",
    "\n",
    "with open(file, encoding = 'utf8') as f:\n",
    "    csvreader = csv.reader(f)\n",
    "    next(csvreader) # skip header\n",
    "    for line in csvreader:\n",
    "# Assign the INSERT statements into the `query` variable\n",
    "        query = \"Insert into music_user_song(username ,song_title, userid)\"\n",
    "        query = query + \"values(%s,%s,%s)\"\n",
    "        # Assign which column element should be assigned for each column in the INSERT statement.\n",
    "        # For e.g., to INSERT artist_name and user first_name, you would change the code below to `line[0], line[1]`\n",
    "        # username column populated with concatenation of first and last name\n",
    "        session.execute(query, (line[1]+' '+line[4],line[9], int(line[10])))"
   ]
  },
  {
   "cell_type": "code",
   "execution_count": 50,
   "metadata": {},
   "outputs": [
    {
     "name": "stdout",
     "output_type": "stream",
     "text": [
      "           username\n",
      "0  Jacqueline Lynch\n",
      "1      Tegan Levine\n",
      "2      Sara Johnson\n"
     ]
    }
   ],
   "source": [
    "# SELECT statement to verify the data was entered into the table music_user_song\n",
    "\n",
    "# Select only required columns instead of '*' so performance is better.Select query is executed and assigned to result_set\n",
    "try:\n",
    "    query = \"Select username from music_user_song where song_title='All Hands Against His Own';\"\n",
    "    result_set = session.execute(query)\n",
    "except Exception as e:\n",
    "    print(e)\n",
    "    \n",
    "# Printing the required columns from music_user_song\n",
    "# result set is put into a dataframe and assigned columns and displayed\n",
    "try:\n",
    "    df = pd.DataFrame(list(result_set))\n",
    "    df.columns = ['username']\n",
    "    print(df)\n",
    "except Exception as e:\n",
    "    print(e)"
   ]
  },
  {
   "cell_type": "markdown",
   "metadata": {},
   "source": [
    "### Drop the tables before closing out the sessions"
   ]
  },
  {
   "cell_type": "code",
   "execution_count": 51,
   "metadata": {},
   "outputs": [],
   "source": [
    "# Drop table 1 music_session_history\n",
    "try:\n",
    "    session.execute(\"Drop table music_session_history\")\n",
    "except Exception as e:\n",
    "    print(e)\n",
    "\n",
    "\n",
    "# Drop table 2 music_user_history\n",
    "try:\n",
    "    session.execute(\"Drop table music_user_history \")\n",
    "except Exception as e:\n",
    "    print(e)\n",
    "\n",
    "# Drop table 3 music_user_song\n",
    "try:\n",
    "    session.execute(\"Drop table music_user_song \")\n",
    "except Exception as e:\n",
    "    print(e)\n",
    "    "
   ]
  },
  {
   "cell_type": "markdown",
   "metadata": {},
   "source": [
    "### Close the session and cluster connection¶"
   ]
  },
  {
   "cell_type": "code",
   "execution_count": 52,
   "metadata": {},
   "outputs": [],
   "source": [
    "session.shutdown()\n",
    "cluster.shutdown()"
   ]
  },
  {
   "cell_type": "code",
   "execution_count": null,
   "metadata": {},
   "outputs": [],
   "source": []
  },
  {
   "cell_type": "code",
   "execution_count": null,
   "metadata": {},
   "outputs": [],
   "source": []
  }
 ],
 "metadata": {
  "kernelspec": {
   "display_name": "Python 3",
   "language": "python",
   "name": "python3"
  },
  "language_info": {
   "codemirror_mode": {
    "name": "ipython",
    "version": 3
   },
   "file_extension": ".py",
   "mimetype": "text/x-python",
   "name": "python",
   "nbconvert_exporter": "python",
   "pygments_lexer": "ipython3",
   "version": "3.6.3"
  }
 },
 "nbformat": 4,
 "nbformat_minor": 2
}
